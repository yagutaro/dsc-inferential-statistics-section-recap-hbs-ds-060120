{
 "cells": [
  {
   "cell_type": "markdown",
   "metadata": {},
   "source": [
    "#  Central Limit Theorem and Confidence Intervals - Recap\n",
    "\n",
    "## Introduction\n",
    "\n",
    "This short lesson summarizes the topics we covered in this section and why they'll be important to you as a data scientist.\n",
    "\n",
    "## Key Takeaways\n",
    "This section was all about building further on your statistics foundations by introducing the Central Limit Theorem and confidence intervals. Some of the key takeaways include:\n",
    "\n",
    "* The Central Limit Theorem states that often, independent random variables summed together will converge to a normal distribution as the number of variables increases\n",
    "* Using the Central Limit Theorem, we can work with non-normally distributed data sets as if they were normally distributed\n",
    "* The Standard Error is a measure of spread - it is the standard deviation of samples from the sample mean\n",
    "* If you take repeated samples and compute the 95% confidence interval for a given parameter for each sample, 95% of the intervals would contain the population parameter.\n",
    "* The $z$-critical value is the number of standard deviations you'd have to go from the mean of the normal distribution to capture the proportion of the data associated with the desired confidence level.\n",
    "* If you don't know the standard deviation for a population, you need to use t-distributions to compute the margin of error for calculating a confidence interval."
   ]
  }
 ],
 "metadata": {
  "kernelspec": {
   "display_name": "Python 3",
   "language": "python",
   "name": "python3"
  },
  "language_info": {
   "codemirror_mode": {
    "name": "ipython",
    "version": 3
   },
   "file_extension": ".py",
   "mimetype": "text/x-python",
   "name": "python",
   "nbconvert_exporter": "python",
   "pygments_lexer": "ipython3",
   "version": "3.6.9"
  },
  "toc": {
   "base_numbering": 1,
   "nav_menu": {},
   "number_sections": true,
   "sideBar": true,
   "skip_h1_title": false,
   "title_cell": "Table of Contents",
   "title_sidebar": "Contents",
   "toc_cell": false,
   "toc_position": {},
   "toc_section_display": true,
   "toc_window_display": false
  }
 },
 "nbformat": 4,
 "nbformat_minor": 2
}
